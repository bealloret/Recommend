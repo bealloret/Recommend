{
 "cells": [
  {
   "cell_type": "code",
   "execution_count": 2,
   "id": "1c401fd9-b85c-44e6-a0ee-2f88c87e86cb",
   "metadata": {
    "tags": []
   },
   "outputs": [],
   "source": [
    "import pandas as pd"
   ]
  },
  {
   "cell_type": "code",
   "execution_count": 3,
   "id": "3767af63-cf80-42ab-9b85-45b503814042",
   "metadata": {
    "tags": []
   },
   "outputs": [],
   "source": [
    "path1 = r\"C:\\Users\\beall\\ColabDocs\\Bootcamp\\Project Recommender\\movies.csv\"\n",
    "movies_df = pd.read_csv(path1)\n",
    "\n",
    "path2 = r\"C:\\Users\\beall\\ColabDocs\\Bootcamp\\Project Recommender\\ratings.csv\"\n",
    "ratings_df = pd.read_csv(path2)"
   ]
  },
  {
   "cell_type": "markdown",
   "id": "1c967a66-5f92-4bad-9035-b0f52257dfeb",
   "metadata": {},
   "source": [
    "## Exploring data sets"
   ]
  },
  {
   "cell_type": "code",
   "execution_count": 3,
   "id": "eb883344-606d-4016-9b15-37770032ee55",
   "metadata": {
    "tags": []
   },
   "outputs": [
    {
     "data": {
      "text/plain": [
       "(9742, 3)"
      ]
     },
     "execution_count": 3,
     "metadata": {},
     "output_type": "execute_result"
    }
   ],
   "source": [
    "movies_df.shape"
   ]
  },
  {
   "cell_type": "code",
   "execution_count": 4,
   "id": "12529578-b7eb-4a6e-8035-a9b95b326ecd",
   "metadata": {
    "tags": []
   },
   "outputs": [
    {
     "data": {
      "text/plain": [
       "(100836, 4)"
      ]
     },
     "execution_count": 4,
     "metadata": {},
     "output_type": "execute_result"
    }
   ],
   "source": [
    "ratings_df.shape"
   ]
  },
  {
   "cell_type": "code",
   "execution_count": 5,
   "id": "72b73eed-71d5-48ec-86f2-a7adba60e0a9",
   "metadata": {
    "tags": []
   },
   "outputs": [
    {
     "data": {
      "text/html": [
       "<div>\n",
       "<style scoped>\n",
       "    .dataframe tbody tr th:only-of-type {\n",
       "        vertical-align: middle;\n",
       "    }\n",
       "\n",
       "    .dataframe tbody tr th {\n",
       "        vertical-align: top;\n",
       "    }\n",
       "\n",
       "    .dataframe thead th {\n",
       "        text-align: right;\n",
       "    }\n",
       "</style>\n",
       "<table border=\"1\" class=\"dataframe\">\n",
       "  <thead>\n",
       "    <tr style=\"text-align: right;\">\n",
       "      <th></th>\n",
       "      <th>movieId</th>\n",
       "    </tr>\n",
       "  </thead>\n",
       "  <tbody>\n",
       "    <tr>\n",
       "      <th>count</th>\n",
       "      <td>9742.000000</td>\n",
       "    </tr>\n",
       "    <tr>\n",
       "      <th>mean</th>\n",
       "      <td>42200.353623</td>\n",
       "    </tr>\n",
       "    <tr>\n",
       "      <th>std</th>\n",
       "      <td>52160.494854</td>\n",
       "    </tr>\n",
       "    <tr>\n",
       "      <th>min</th>\n",
       "      <td>1.000000</td>\n",
       "    </tr>\n",
       "    <tr>\n",
       "      <th>25%</th>\n",
       "      <td>3248.250000</td>\n",
       "    </tr>\n",
       "    <tr>\n",
       "      <th>50%</th>\n",
       "      <td>7300.000000</td>\n",
       "    </tr>\n",
       "    <tr>\n",
       "      <th>75%</th>\n",
       "      <td>76232.000000</td>\n",
       "    </tr>\n",
       "    <tr>\n",
       "      <th>max</th>\n",
       "      <td>193609.000000</td>\n",
       "    </tr>\n",
       "  </tbody>\n",
       "</table>\n",
       "</div>"
      ],
      "text/plain": [
       "             movieId\n",
       "count    9742.000000\n",
       "mean    42200.353623\n",
       "std     52160.494854\n",
       "min         1.000000\n",
       "25%      3248.250000\n",
       "50%      7300.000000\n",
       "75%     76232.000000\n",
       "max    193609.000000"
      ]
     },
     "execution_count": 5,
     "metadata": {},
     "output_type": "execute_result"
    }
   ],
   "source": [
    "movies_df.describe()"
   ]
  },
  {
   "cell_type": "code",
   "execution_count": 6,
   "id": "7f9fce3e-109f-455a-830a-52ea98bbd9e6",
   "metadata": {
    "tags": []
   },
   "outputs": [
    {
     "data": {
      "text/html": [
       "<div>\n",
       "<style scoped>\n",
       "    .dataframe tbody tr th:only-of-type {\n",
       "        vertical-align: middle;\n",
       "    }\n",
       "\n",
       "    .dataframe tbody tr th {\n",
       "        vertical-align: top;\n",
       "    }\n",
       "\n",
       "    .dataframe thead th {\n",
       "        text-align: right;\n",
       "    }\n",
       "</style>\n",
       "<table border=\"1\" class=\"dataframe\">\n",
       "  <thead>\n",
       "    <tr style=\"text-align: right;\">\n",
       "      <th></th>\n",
       "      <th>userId</th>\n",
       "      <th>movieId</th>\n",
       "      <th>rating</th>\n",
       "      <th>timestamp</th>\n",
       "    </tr>\n",
       "  </thead>\n",
       "  <tbody>\n",
       "    <tr>\n",
       "      <th>count</th>\n",
       "      <td>100836.000000</td>\n",
       "      <td>100836.000000</td>\n",
       "      <td>100836.000000</td>\n",
       "      <td>1.008360e+05</td>\n",
       "    </tr>\n",
       "    <tr>\n",
       "      <th>mean</th>\n",
       "      <td>326.127564</td>\n",
       "      <td>19435.295718</td>\n",
       "      <td>3.501557</td>\n",
       "      <td>1.205946e+09</td>\n",
       "    </tr>\n",
       "    <tr>\n",
       "      <th>std</th>\n",
       "      <td>182.618491</td>\n",
       "      <td>35530.987199</td>\n",
       "      <td>1.042529</td>\n",
       "      <td>2.162610e+08</td>\n",
       "    </tr>\n",
       "    <tr>\n",
       "      <th>min</th>\n",
       "      <td>1.000000</td>\n",
       "      <td>1.000000</td>\n",
       "      <td>0.500000</td>\n",
       "      <td>8.281246e+08</td>\n",
       "    </tr>\n",
       "    <tr>\n",
       "      <th>25%</th>\n",
       "      <td>177.000000</td>\n",
       "      <td>1199.000000</td>\n",
       "      <td>3.000000</td>\n",
       "      <td>1.019124e+09</td>\n",
       "    </tr>\n",
       "    <tr>\n",
       "      <th>50%</th>\n",
       "      <td>325.000000</td>\n",
       "      <td>2991.000000</td>\n",
       "      <td>3.500000</td>\n",
       "      <td>1.186087e+09</td>\n",
       "    </tr>\n",
       "    <tr>\n",
       "      <th>75%</th>\n",
       "      <td>477.000000</td>\n",
       "      <td>8122.000000</td>\n",
       "      <td>4.000000</td>\n",
       "      <td>1.435994e+09</td>\n",
       "    </tr>\n",
       "    <tr>\n",
       "      <th>max</th>\n",
       "      <td>610.000000</td>\n",
       "      <td>193609.000000</td>\n",
       "      <td>5.000000</td>\n",
       "      <td>1.537799e+09</td>\n",
       "    </tr>\n",
       "  </tbody>\n",
       "</table>\n",
       "</div>"
      ],
      "text/plain": [
       "              userId        movieId         rating     timestamp\n",
       "count  100836.000000  100836.000000  100836.000000  1.008360e+05\n",
       "mean      326.127564   19435.295718       3.501557  1.205946e+09\n",
       "std       182.618491   35530.987199       1.042529  2.162610e+08\n",
       "min         1.000000       1.000000       0.500000  8.281246e+08\n",
       "25%       177.000000    1199.000000       3.000000  1.019124e+09\n",
       "50%       325.000000    2991.000000       3.500000  1.186087e+09\n",
       "75%       477.000000    8122.000000       4.000000  1.435994e+09\n",
       "max       610.000000  193609.000000       5.000000  1.537799e+09"
      ]
     },
     "execution_count": 6,
     "metadata": {},
     "output_type": "execute_result"
    }
   ],
   "source": [
    "ratings_df.describe()"
   ]
  },
  {
   "cell_type": "code",
   "execution_count": 55,
   "id": "2b37d9d5-6006-4741-bfe0-2ad0dc9545fd",
   "metadata": {
    "tags": []
   },
   "outputs": [
    {
     "name": "stdout",
     "output_type": "stream",
     "text": [
      "<class 'pandas.core.frame.DataFrame'>\n",
      "RangeIndex: 9742 entries, 0 to 9741\n",
      "Data columns (total 3 columns):\n",
      " #   Column   Non-Null Count  Dtype \n",
      "---  ------   --------------  ----- \n",
      " 0   movieId  9742 non-null   int64 \n",
      " 1   title    9742 non-null   object\n",
      " 2   genres   9742 non-null   object\n",
      "dtypes: int64(1), object(2)\n",
      "memory usage: 228.5+ KB\n"
     ]
    }
   ],
   "source": [
    "movies_df.info()"
   ]
  },
  {
   "cell_type": "code",
   "execution_count": 56,
   "id": "3a3218ac-461a-43fd-b54f-5bfab8faf45b",
   "metadata": {
    "tags": []
   },
   "outputs": [
    {
     "data": {
      "text/plain": [
       "movieId    9742\n",
       "title      9737\n",
       "genres      951\n",
       "dtype: int64"
      ]
     },
     "execution_count": 56,
     "metadata": {},
     "output_type": "execute_result"
    }
   ],
   "source": [
    "movies_df.nunique()"
   ]
  },
  {
   "cell_type": "code",
   "execution_count": 57,
   "id": "943c0143-6ea7-4495-b38f-336676fbc544",
   "metadata": {
    "tags": []
   },
   "outputs": [
    {
     "name": "stdout",
     "output_type": "stream",
     "text": [
      "<class 'pandas.core.frame.DataFrame'>\n",
      "RangeIndex: 100836 entries, 0 to 100835\n",
      "Data columns (total 4 columns):\n",
      " #   Column     Non-Null Count   Dtype  \n",
      "---  ------     --------------   -----  \n",
      " 0   userId     100836 non-null  int64  \n",
      " 1   movieId    100836 non-null  int64  \n",
      " 2   rating     100836 non-null  float64\n",
      " 3   timestamp  100836 non-null  int64  \n",
      "dtypes: float64(1), int64(3)\n",
      "memory usage: 3.1 MB\n"
     ]
    }
   ],
   "source": [
    "ratings_df.info()"
   ]
  },
  {
   "cell_type": "code",
   "execution_count": 58,
   "id": "b15a3be3-e68d-4c27-b7a8-ef9cef78bfd2",
   "metadata": {
    "tags": []
   },
   "outputs": [
    {
     "data": {
      "text/plain": [
       "userId         610\n",
       "movieId       9724\n",
       "rating          10\n",
       "timestamp    85043\n",
       "dtype: int64"
      ]
     },
     "execution_count": 58,
     "metadata": {},
     "output_type": "execute_result"
    }
   ],
   "source": [
    "ratings_df.nunique()"
   ]
  },
  {
   "cell_type": "code",
   "execution_count": 59,
   "id": "1016ff03-0c02-427a-8424-c97d992756c3",
   "metadata": {
    "tags": []
   },
   "outputs": [
    {
     "data": {
      "text/plain": [
       "userId\n",
       "1       232\n",
       "2        29\n",
       "3        39\n",
       "4       216\n",
       "5        44\n",
       "       ... \n",
       "606    1115\n",
       "607     187\n",
       "608     831\n",
       "609      37\n",
       "610    1302\n",
       "Name: rating, Length: 610, dtype: int64"
      ]
     },
     "execution_count": 59,
     "metadata": {},
     "output_type": "execute_result"
    }
   ],
   "source": [
    "ratings_df.groupby('userId')['rating'].count()"
   ]
  },
  {
   "cell_type": "code",
   "execution_count": 60,
   "id": "81f47688-372d-4054-abe9-cc8bea3b94d1",
   "metadata": {
    "tags": []
   },
   "outputs": [
    {
     "data": {
      "text/plain": [
       "movieId\n",
       "1         215\n",
       "2         110\n",
       "3          52\n",
       "4           7\n",
       "5          49\n",
       "         ... \n",
       "193581      1\n",
       "193583      1\n",
       "193585      1\n",
       "193587      1\n",
       "193609      1\n",
       "Name: rating, Length: 9724, dtype: int64"
      ]
     },
     "execution_count": 60,
     "metadata": {},
     "output_type": "execute_result"
    }
   ],
   "source": [
    "ratings_df.groupby('movieId')['rating'].count()"
   ]
  },
  {
   "cell_type": "code",
   "execution_count": 61,
   "id": "77dde008-0af2-4ca7-bbfe-7f7344f189df",
   "metadata": {
    "tags": []
   },
   "outputs": [
    {
     "data": {
      "text/plain": [
       "movieId\n",
       "1         3.920930\n",
       "2         3.431818\n",
       "3         3.259615\n",
       "4         2.357143\n",
       "5         3.071429\n",
       "            ...   \n",
       "193581    4.000000\n",
       "193583    3.500000\n",
       "193585    3.500000\n",
       "193587    3.500000\n",
       "193609    4.000000\n",
       "Name: rating, Length: 9724, dtype: float64"
      ]
     },
     "execution_count": 61,
     "metadata": {},
     "output_type": "execute_result"
    }
   ],
   "source": [
    "ratings_df.groupby('movieId')['rating'].mean()"
   ]
  },
  {
   "cell_type": "markdown",
   "id": "3c9541f4-06f7-45f2-831a-962d43b10a95",
   "metadata": {},
   "source": [
    "# Creating a Recommender based on popularity"
   ]
  },
  {
   "cell_type": "markdown",
   "id": "f8cb53e8-afb3-4b43-beff-70b0db9cd365",
   "metadata": {},
   "source": [
    "### Version with normalisation"
   ]
  },
  {
   "cell_type": "markdown",
   "id": "0d5b4b82-3331-4eea-be61-2dda14d0f74e",
   "metadata": {},
   "source": [
    "We have a df with userId, movieId and rating. We need a new df with the ratings for each movie. For that we extract the necessary info from the original dataset for calculating the rating."
   ]
  },
  {
   "cell_type": "code",
   "execution_count": 14,
   "id": "cb4bb98a-58a1-462b-9bb0-e4a1f68e39c7",
   "metadata": {
    "tags": []
   },
   "outputs": [],
   "source": [
    "#This should be the format of the new_df to calculate the final rating:\n",
    "#new_df = pd.DataFrame (columns =\n",
    "         #              ['movieId',\n",
    "        #                'rating_mean',\n",
    "         #               'rating_count'\n",
    "           #            ]\n",
    "              #          )"
   ]
  },
  {
   "cell_type": "code",
   "execution_count": 70,
   "id": "815fa124-449e-4c13-97b4-7e9f784413aa",
   "metadata": {
    "tags": []
   },
   "outputs": [
    {
     "data": {
      "text/html": [
       "<div>\n",
       "<style scoped>\n",
       "    .dataframe tbody tr th:only-of-type {\n",
       "        vertical-align: middle;\n",
       "    }\n",
       "\n",
       "    .dataframe tbody tr th {\n",
       "        vertical-align: top;\n",
       "    }\n",
       "\n",
       "    .dataframe thead th {\n",
       "        text-align: right;\n",
       "    }\n",
       "</style>\n",
       "<table border=\"1\" class=\"dataframe\">\n",
       "  <thead>\n",
       "    <tr style=\"text-align: right;\">\n",
       "      <th></th>\n",
       "      <th>title</th>\n",
       "      <th>genres</th>\n",
       "      <th>popularity_score</th>\n",
       "    </tr>\n",
       "  </thead>\n",
       "  <tbody>\n",
       "    <tr>\n",
       "      <th>0</th>\n",
       "      <td>Forrest Gump (1994)</td>\n",
       "      <td>Comedy|Drama|Romance|War</td>\n",
       "      <td>231.549240</td>\n",
       "    </tr>\n",
       "    <tr>\n",
       "      <th>1</th>\n",
       "      <td>Shawshank Redemption, The (1994)</td>\n",
       "      <td>Crime|Drama</td>\n",
       "      <td>223.228707</td>\n",
       "    </tr>\n",
       "    <tr>\n",
       "      <th>2</th>\n",
       "      <td>Pulp Fiction (1994)</td>\n",
       "      <td>Comedy|Crime|Drama|Thriller</td>\n",
       "      <td>216.159121</td>\n",
       "    </tr>\n",
       "    <tr>\n",
       "      <th>3</th>\n",
       "      <td>Silence of the Lambs, The (1991)</td>\n",
       "      <td>Crime|Horror|Thriller</td>\n",
       "      <td>196.548387</td>\n",
       "    </tr>\n",
       "    <tr>\n",
       "      <th>4</th>\n",
       "      <td>Matrix, The (1999)</td>\n",
       "      <td>Action|Sci-Fi|Thriller</td>\n",
       "      <td>195.857734</td>\n",
       "    </tr>\n",
       "  </tbody>\n",
       "</table>\n",
       "</div>"
      ],
      "text/plain": [
       "                              title                       genres  \\\n",
       "0               Forrest Gump (1994)     Comedy|Drama|Romance|War   \n",
       "1  Shawshank Redemption, The (1994)                  Crime|Drama   \n",
       "2               Pulp Fiction (1994)  Comedy|Crime|Drama|Thriller   \n",
       "3  Silence of the Lambs, The (1991)        Crime|Horror|Thriller   \n",
       "4                Matrix, The (1999)       Action|Sci-Fi|Thriller   \n",
       "\n",
       "   popularity_score  \n",
       "0        231.549240  \n",
       "1        223.228707  \n",
       "2        216.159121  \n",
       "3        196.548387  \n",
       "4        195.857734  "
      ]
     },
     "execution_count": 70,
     "metadata": {},
     "output_type": "execute_result"
    }
   ],
   "source": [
    "def popularity_rat1(number_rating_m, rating_m):\n",
    "    #Creating the new df for our calculation\n",
    "    new_df = ratings_df.groupby('movieId').agg({'rating':['mean', 'count']})\n",
    "    # We change the name of the new columns\n",
    "    new_df.columns = ['rating_mean', 'rating_count']\n",
    "    \n",
    "    # We create additional columns with normalised data\n",
    "    new_df['rating_mean_normalised'] = (new_df['rating_mean'] - new_df['rating_mean'].min()) / (new_df['rating_mean'].max() - new_df['rating_mean'].min())\n",
    "    new_df['rating_count_normalised'] = (new_df['rating_count'] - new_df['rating_count'].min()) / (new_df['rating_count'].max() - new_df['rating_count'].min())\n",
    "    \n",
    "    #We create different rates for the variables that are going to be the base of the recommendation \n",
    "    weight_rating_count = 0.3\n",
    "    weight_average_rating = 0.7\n",
    "    \n",
    "    #We create the function to calculate the final rating\n",
    "    new_df['popularity_score'] = (\n",
    "        weight_rating_count * new_df['rating_mean'] +\n",
    "        weight_average_rating * new_df['rating_count']\n",
    "    )\n",
    "        \n",
    "     #Reorganising the table\n",
    "    new_df = new_df.sort_values('popularity_score',ascending=False)\n",
    "    new_df = new_df.reset_index()\n",
    "    new_df = new_df.merge(movies_df[['title','genres','movieId']],how='left',on='movieId').drop_duplicates()\n",
    "        \n",
    "    return new_df[['title','genres','popularity_score']].head(5)\n",
    "\n",
    "result = popularity_rat1('rating_count', 'rating_mean')\n",
    "result   "
   ]
  },
  {
   "cell_type": "markdown",
   "id": "1bf3b28c-b17d-4cca-9db4-ee49198eda22",
   "metadata": {},
   "source": [
    "#### Notes on popularity_rat1:"
   ]
  },
  {
   "cell_type": "code",
   "execution_count": 15,
   "id": "19afd0b9-7378-4d99-b5b9-6dec6c3208cb",
   "metadata": {
    "tags": []
   },
   "outputs": [
    {
     "data": {
      "text/html": [
       "<div>\n",
       "<style scoped>\n",
       "    .dataframe tbody tr th:only-of-type {\n",
       "        vertical-align: middle;\n",
       "    }\n",
       "\n",
       "    .dataframe tbody tr th {\n",
       "        vertical-align: top;\n",
       "    }\n",
       "\n",
       "    .dataframe thead tr th {\n",
       "        text-align: left;\n",
       "    }\n",
       "\n",
       "    .dataframe thead tr:last-of-type th {\n",
       "        text-align: right;\n",
       "    }\n",
       "</style>\n",
       "<table border=\"1\" class=\"dataframe\">\n",
       "  <thead>\n",
       "    <tr>\n",
       "      <th></th>\n",
       "      <th colspan=\"2\" halign=\"left\">rating</th>\n",
       "    </tr>\n",
       "    <tr>\n",
       "      <th></th>\n",
       "      <th>mean</th>\n",
       "      <th>count</th>\n",
       "    </tr>\n",
       "    <tr>\n",
       "      <th>movieId</th>\n",
       "      <th></th>\n",
       "      <th></th>\n",
       "    </tr>\n",
       "  </thead>\n",
       "  <tbody>\n",
       "    <tr>\n",
       "      <th>1</th>\n",
       "      <td>3.920930</td>\n",
       "      <td>215</td>\n",
       "    </tr>\n",
       "    <tr>\n",
       "      <th>2</th>\n",
       "      <td>3.431818</td>\n",
       "      <td>110</td>\n",
       "    </tr>\n",
       "    <tr>\n",
       "      <th>3</th>\n",
       "      <td>3.259615</td>\n",
       "      <td>52</td>\n",
       "    </tr>\n",
       "    <tr>\n",
       "      <th>4</th>\n",
       "      <td>2.357143</td>\n",
       "      <td>7</td>\n",
       "    </tr>\n",
       "    <tr>\n",
       "      <th>5</th>\n",
       "      <td>3.071429</td>\n",
       "      <td>49</td>\n",
       "    </tr>\n",
       "  </tbody>\n",
       "</table>\n",
       "</div>"
      ],
      "text/plain": [
       "           rating      \n",
       "             mean count\n",
       "movieId                \n",
       "1        3.920930   215\n",
       "2        3.431818   110\n",
       "3        3.259615    52\n",
       "4        2.357143     7\n",
       "5        3.071429    49"
      ]
     },
     "execution_count": 15,
     "metadata": {},
     "output_type": "execute_result"
    }
   ],
   "source": [
    "# We have to make the change the name of the new columns\n",
    "      #new_df.columns = ['rating_mean', 'rating_count']\n",
    "#because the df would look like this:    \n",
    "new_df = ratings_df.groupby('movieId').agg({'rating':['mean', 'count']})\n",
    "new_df.head()"
   ]
  },
  {
   "cell_type": "markdown",
   "id": "d11c2ce6-ed90-4da6-be21-8e70463c858c",
   "metadata": {},
   "source": [
    "### Version without normalisation and a different formula for the weights"
   ]
  },
  {
   "cell_type": "code",
   "execution_count": 33,
   "id": "42ce6aa8-511f-4e49-84bf-160b81e34893",
   "metadata": {},
   "outputs": [],
   "source": [
    "# Based on these columns we create a score for recommending. Formula:\n",
    "# Weighted Rating (WR) = (v/(v+m)R)+(m/(v+m)C)   \n",
    "# where,  \n",
    "  \n",
    "# v is the number of votes for the movie    \n",
    "# m is the minimum votes required to be listed in the chart   \n",
    "# R is the average rating of the movie   \n",
    "# C is the mean vote across the whole   "
   ]
  },
  {
   "cell_type": "code",
   "execution_count": 34,
   "id": "f14dad2c-6c13-4c55-ac7c-18f8a164304e",
   "metadata": {},
   "outputs": [],
   "source": [
    "# v = rating_count --> normalised\n",
    "# m = rating_count >= q75\n",
    "# R = rating_mean --> normalised\n",
    "# C = ???"
   ]
  },
  {
   "cell_type": "code",
   "execution_count": 15,
   "id": "95bb3bb2-1201-4cd1-8f99-af9f050df542",
   "metadata": {},
   "outputs": [
    {
     "data": {
      "text/html": [
       "<div>\n",
       "<style scoped>\n",
       "    .dataframe tbody tr th:only-of-type {\n",
       "        vertical-align: middle;\n",
       "    }\n",
       "\n",
       "    .dataframe tbody tr th {\n",
       "        vertical-align: top;\n",
       "    }\n",
       "\n",
       "    .dataframe thead th {\n",
       "        text-align: right;\n",
       "    }\n",
       "</style>\n",
       "<table border=\"1\" class=\"dataframe\">\n",
       "  <thead>\n",
       "    <tr style=\"text-align: right;\">\n",
       "      <th></th>\n",
       "      <th>title</th>\n",
       "      <th>movieId</th>\n",
       "      <th>genres</th>\n",
       "      <th>popularity_score</th>\n",
       "    </tr>\n",
       "  </thead>\n",
       "  <tbody>\n",
       "    <tr>\n",
       "      <th>0</th>\n",
       "      <td>Shawshank Redemption, The (1994)</td>\n",
       "      <td>318</td>\n",
       "      <td>Crime|Drama</td>\n",
       "      <td>4.396816</td>\n",
       "    </tr>\n",
       "    <tr>\n",
       "      <th>1</th>\n",
       "      <td>Godfather, The (1972)</td>\n",
       "      <td>858</td>\n",
       "      <td>Crime|Drama</td>\n",
       "      <td>4.243095</td>\n",
       "    </tr>\n",
       "    <tr>\n",
       "      <th>2</th>\n",
       "      <td>Fight Club (1999)</td>\n",
       "      <td>2959</td>\n",
       "      <td>Action|Crime|Drama|Thriller</td>\n",
       "      <td>4.232872</td>\n",
       "    </tr>\n",
       "    <tr>\n",
       "      <th>3</th>\n",
       "      <td>Star Wars: Episode IV - A New Hope (1977)</td>\n",
       "      <td>260</td>\n",
       "      <td>Action|Adventure|Sci-Fi</td>\n",
       "      <td>4.197546</td>\n",
       "    </tr>\n",
       "    <tr>\n",
       "      <th>4</th>\n",
       "      <td>Usual Suspects, The (1995)</td>\n",
       "      <td>50</td>\n",
       "      <td>Crime|Mystery|Thriller</td>\n",
       "      <td>4.196535</td>\n",
       "    </tr>\n",
       "  </tbody>\n",
       "</table>\n",
       "</div>"
      ],
      "text/plain": [
       "                                       title  movieId  \\\n",
       "0           Shawshank Redemption, The (1994)      318   \n",
       "1                      Godfather, The (1972)      858   \n",
       "2                          Fight Club (1999)     2959   \n",
       "3  Star Wars: Episode IV - A New Hope (1977)      260   \n",
       "4                 Usual Suspects, The (1995)       50   \n",
       "\n",
       "                        genres  popularity_score  \n",
       "0                  Crime|Drama          4.396816  \n",
       "1                  Crime|Drama          4.243095  \n",
       "2  Action|Crime|Drama|Thriller          4.232872  \n",
       "3      Action|Adventure|Sci-Fi          4.197546  \n",
       "4       Crime|Mystery|Thriller          4.196535  "
      ]
     },
     "execution_count": 15,
     "metadata": {},
     "output_type": "execute_result"
    }
   ],
   "source": [
    "def popularity_rat2(number_rating_m, rating_m):\n",
    "    new_df = ratings_df.groupby('movieId').agg({'rating':['mean', 'count']})\n",
    "    new_df.columns = ['rating_mean', 'rating_count']\n",
    "    \n",
    "    #Creating the variables for Weighted Rating (WR) = (v/(v+m)R)+(m/(v+m)C) \n",
    "    m = new_df['rating_count'].quantile(0.75)\n",
    "    C = new_df['rating_mean'].mean()\n",
    "    \n",
    "    v = new_df[number_rating_m]\n",
    "    R = new_df[rating_m]\n",
    "    \n",
    "    #Creating new columns for the WR\n",
    "    new_df['v/(v+m)R'] = (v / (v + m)* R)\n",
    "    new_df['(m/(v+m)C)'] = (m / (v + m)* C)\n",
    "    \n",
    "    new_df['popularity_score'] = new_df['v/(v+m)R'] + new_df['(m/(v+m)C)']\n",
    "    \n",
    "    #Reorganising the table\n",
    "    new_df = new_df.sort_values('popularity_score',ascending=False)\n",
    "    new_df = new_df.reset_index()\n",
    "    new_df = new_df.merge(movies_df[['title','genres','movieId']],how='left',on='movieId').drop_duplicates()\n",
    "    \n",
    "    return new_df[['title', 'movieId','genres','popularity_score']].head(5)\n",
    "\n",
    "result1 = popularity_rat2('rating_count', 'rating_mean')\n",
    "result1   "
   ]
  }
 ],
 "metadata": {
  "kernelspec": {
   "display_name": "Python 3 (ipykernel)",
   "language": "python",
   "name": "python3"
  },
  "language_info": {
   "codemirror_mode": {
    "name": "ipython",
    "version": 3
   },
   "file_extension": ".py",
   "mimetype": "text/x-python",
   "name": "python",
   "nbconvert_exporter": "python",
   "pygments_lexer": "ipython3",
   "version": "3.11.3"
  }
 },
 "nbformat": 4,
 "nbformat_minor": 5
}
