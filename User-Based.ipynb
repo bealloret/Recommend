{
 "cells": [
  {
   "cell_type": "code",
   "execution_count": 4,
   "id": "7d67b7aa-7431-498d-b8d8-2a71ee8de501",
   "metadata": {},
   "outputs": [],
   "source": [
    "import pandas as pd"
   ]
  },
  {
   "cell_type": "code",
   "execution_count": 5,
   "id": "794bb89b-da02-4164-8145-e36a6cce7269",
   "metadata": {},
   "outputs": [],
   "source": [
    "path1 = r\"C:\\Users\\beall\\ColabDocs\\Bootcamp\\Project Recommender\\movies.csv\"\n",
    "movies_df = pd.read_csv(path1)\n",
    "\n",
    "path2 = r\"C:\\Users\\beall\\ColabDocs\\Bootcamp\\Project Recommender\\ratings.csv\"\n",
    "ratings_df = pd.read_csv(path2)"
   ]
  },
  {
   "cell_type": "code",
   "execution_count": 6,
   "id": "ae31dc6a-10db-4702-a9bd-431a1bfe36cd",
   "metadata": {
    "tags": []
   },
   "outputs": [
    {
     "name": "stdout",
     "output_type": "stream",
     "text": [
      "Requirement already satisfied: scikit-surprise in c:\\users\\beall\\anaconda3\\lib\\site-packages (1.1.3)Note: you may need to restart the kernel to use updated packages.\n",
      "\n",
      "Requirement already satisfied: joblib>=1.0.0 in c:\\users\\beall\\anaconda3\\lib\\site-packages (from scikit-surprise) (1.2.0)\n",
      "Requirement already satisfied: numpy>=1.17.3 in c:\\users\\beall\\anaconda3\\lib\\site-packages (from scikit-surprise) (1.24.3)\n",
      "Requirement already satisfied: scipy>=1.3.2 in c:\\users\\beall\\anaconda3\\lib\\site-packages (from scikit-surprise) (1.10.1)\n"
     ]
    }
   ],
   "source": [
    "pip install scikit-surprise"
   ]
  },
  {
   "cell_type": "code",
   "execution_count": 8,
   "id": "a10e57a3-4dc2-420a-8c10-62f5e639cd06",
   "metadata": {
    "tags": []
   },
   "outputs": [],
   "source": [
    "from surprise import Reader, Dataset, KNNBasic, accuracy\n",
    "from surprise.model_selection import train_test_split"
   ]
  },
  {
   "cell_type": "code",
   "execution_count": 7,
   "id": "c1ffa9c0-5e5f-4d61-8f56-7a6e83b1aaa7",
   "metadata": {
    "tags": []
   },
   "outputs": [
    {
     "name": "stdout",
     "output_type": "stream",
     "text": [
      "<class 'pandas.core.frame.DataFrame'>\n",
      "RangeIndex: 9742 entries, 0 to 9741\n",
      "Data columns (total 3 columns):\n",
      " #   Column   Non-Null Count  Dtype \n",
      "---  ------   --------------  ----- \n",
      " 0   movieId  9742 non-null   int64 \n",
      " 1   title    9742 non-null   object\n",
      " 2   genres   9742 non-null   object\n",
      "dtypes: int64(1), object(2)\n",
      "memory usage: 228.5+ KB\n"
     ]
    }
   ],
   "source": [
    "movies_df.info()"
   ]
  },
  {
   "cell_type": "code",
   "execution_count": 9,
   "id": "99b78c38-b70a-446c-b650-e807c1e0b928",
   "metadata": {
    "tags": []
   },
   "outputs": [
    {
     "name": "stdout",
     "output_type": "stream",
     "text": [
      "<class 'pandas.core.frame.DataFrame'>\n",
      "RangeIndex: 100836 entries, 0 to 100835\n",
      "Data columns (total 4 columns):\n",
      " #   Column     Non-Null Count   Dtype  \n",
      "---  ------     --------------   -----  \n",
      " 0   userId     100836 non-null  int64  \n",
      " 1   movieId    100836 non-null  int64  \n",
      " 2   rating     100836 non-null  float64\n",
      " 3   timestamp  100836 non-null  int64  \n",
      "dtypes: float64(1), int64(3)\n",
      "memory usage: 3.1 MB\n"
     ]
    }
   ],
   "source": [
    "ratings_df.info()"
   ]
  },
  {
   "cell_type": "markdown",
   "id": "e2bf3f46-6e83-4c35-8aa6-8f168051cf2e",
   "metadata": {},
   "source": [
    "# Creating a Recommender based on similarities between users (generating surprise recommendations)"
   ]
  },
  {
   "cell_type": "code",
   "execution_count": 11,
   "id": "eec185b0-7a78-42d8-b474-6e540fa9a262",
   "metadata": {},
   "outputs": [],
   "source": [
    "### Creating a new df with the necessary info for a Recommender\n",
    "data = ratings_df[['userId', 'movieId', 'rating']]"
   ]
  },
  {
   "cell_type": "code",
   "execution_count": 13,
   "id": "d0d43540-5ba5-477d-89d6-5c422195cdd1",
   "metadata": {
    "tags": []
   },
   "outputs": [
    {
     "name": "stdout",
     "output_type": "stream",
     "text": [
      "<class 'pandas.core.frame.DataFrame'>\n",
      "RangeIndex: 100836 entries, 0 to 100835\n",
      "Data columns (total 3 columns):\n",
      " #   Column   Non-Null Count   Dtype  \n",
      "---  ------   --------------   -----  \n",
      " 0   userId   100836 non-null  int64  \n",
      " 1   movieId  100836 non-null  int64  \n",
      " 2   rating   100836 non-null  float64\n",
      "dtypes: float64(1), int64(2)\n",
      "memory usage: 2.3 MB\n"
     ]
    }
   ],
   "source": [
    "data.info()"
   ]
  },
  {
   "cell_type": "markdown",
   "id": "86a05c5f-0cbc-4ea7-8d01-ffe0eff2cc66",
   "metadata": {},
   "source": [
    "### Surprise dataset"
   ]
  },
  {
   "cell_type": "code",
   "execution_count": 14,
   "id": "00eeb439-d75b-4e9a-ac3e-4631cd714f2d",
   "metadata": {
    "tags": []
   },
   "outputs": [],
   "source": [
    "reader = Reader(rating_scale=(1, 10))\n",
    "data = Dataset.load_from_df(data, reader)"
   ]
  },
  {
   "cell_type": "markdown",
   "id": "389de820-2526-439c-8070-9f922f769d5e",
   "metadata": {},
   "source": [
    "### Train & Test"
   ]
  },
  {
   "cell_type": "code",
   "execution_count": 16,
   "id": "b55253a7-fb6a-4750-8e94-e9fdab214101",
   "metadata": {
    "tags": []
   },
   "outputs": [],
   "source": [
    "trainset, testset = train_test_split(data, test_size=0.2, random_state=142)"
   ]
  },
  {
   "cell_type": "markdown",
   "id": "f50ac21c-c98a-4055-b716-074298820a01",
   "metadata": {},
   "source": [
    "### Model"
   ]
  },
  {
   "cell_type": "code",
   "execution_count": 17,
   "id": "5e6f1c7a-5262-498e-a20a-a81d35e1635e",
   "metadata": {
    "tags": []
   },
   "outputs": [],
   "source": [
    "sim_options = {\n",
    "    'name': 'cosine',\n",
    "    'user_based': True\n",
    "}\n",
    "\n",
    "knn = KNNBasic(sim_options=sim_options)"
   ]
  },
  {
   "cell_type": "code",
   "execution_count": 18,
   "id": "05c76f3e-3478-4edc-bf04-40b03f7ffaef",
   "metadata": {
    "tags": []
   },
   "outputs": [
    {
     "name": "stdout",
     "output_type": "stream",
     "text": [
      "Computing the cosine similarity matrix...\n",
      "Done computing similarity matrix.\n"
     ]
    },
    {
     "data": {
      "text/plain": [
       "<surprise.prediction_algorithms.knns.KNNBasic at 0x1b77e3242d0>"
      ]
     },
     "execution_count": 18,
     "metadata": {},
     "output_type": "execute_result"
    }
   ],
   "source": [
    "knn.fit(trainset)"
   ]
  },
  {
   "cell_type": "code",
   "execution_count": 19,
   "id": "2c7f6a43-c185-4a26-a2d4-05df7ca17fca",
   "metadata": {
    "tags": []
   },
   "outputs": [],
   "source": [
    "predictions = knn.test(testset)"
   ]
  },
  {
   "cell_type": "markdown",
   "id": "01f36b26-154c-4736-965d-b761d0830d97",
   "metadata": {},
   "source": [
    "- `uid`: Represents the raw user id\n",
    "- `iid`: Represents the raw item id\n",
    "- `r_ui`: Denotes the true rating provided by the user\n",
    "- `est`: Represents the estimated rating calculated by the model\n",
    "- `details`: Stores additional information about the prediction, which can be valuable for further analysis. It provides a space to include any relevant details that might enhance the understanding or interpretation of the prediction results"
   ]
  },
  {
   "cell_type": "code",
   "execution_count": 20,
   "id": "c5e654a6-ce03-4a44-b132-859473396ade",
   "metadata": {
    "tags": []
   },
   "outputs": [
    {
     "data": {
      "text/plain": [
       "[Prediction(uid=380, iid=2085, r_ui=3.0, est=3.5191062895722083, details={'actual_k': 30, 'was_impossible': False}),\n",
       " Prediction(uid=367, iid=513, r_ui=4.0, est=2.9999999999999996, details={'actual_k': 2, 'was_impossible': False}),\n",
       " Prediction(uid=570, iid=349, r_ui=4.0, est=3.7123899526005637, details={'actual_k': 40, 'was_impossible': False}),\n",
       " Prediction(uid=288, iid=2018, r_ui=3.0, est=3.391371971142089, details={'actual_k': 29, 'was_impossible': False}),\n",
       " Prediction(uid=446, iid=266, r_ui=2.0, est=3.4014122408648797, details={'actual_k': 40, 'was_impossible': False})]"
      ]
     },
     "execution_count": 20,
     "metadata": {},
     "output_type": "execute_result"
    }
   ],
   "source": [
    "predictions[:5]"
   ]
  },
  {
   "cell_type": "code",
   "execution_count": 21,
   "id": "6a934360-ed79-4380-ad98-23b7dccec8d5",
   "metadata": {
    "tags": []
   },
   "outputs": [],
   "source": [
    "predictions_df = pd.DataFrame(predictions, columns = [\"raw_user_id\", \"raw_item_id\", \"actual_user_rating\", \"estimated_user_rating\", \"details\"])"
   ]
  },
  {
   "cell_type": "code",
   "execution_count": 22,
   "id": "7cbf3603-269f-43f4-b06d-9682db712d6c",
   "metadata": {
    "tags": []
   },
   "outputs": [
    {
     "data": {
      "text/html": [
       "<div>\n",
       "<style scoped>\n",
       "    .dataframe tbody tr th:only-of-type {\n",
       "        vertical-align: middle;\n",
       "    }\n",
       "\n",
       "    .dataframe tbody tr th {\n",
       "        vertical-align: top;\n",
       "    }\n",
       "\n",
       "    .dataframe thead th {\n",
       "        text-align: right;\n",
       "    }\n",
       "</style>\n",
       "<table border=\"1\" class=\"dataframe\">\n",
       "  <thead>\n",
       "    <tr style=\"text-align: right;\">\n",
       "      <th></th>\n",
       "      <th>raw_user_id</th>\n",
       "      <th>raw_item_id</th>\n",
       "      <th>actual_user_rating</th>\n",
       "      <th>estimated_user_rating</th>\n",
       "      <th>details</th>\n",
       "    </tr>\n",
       "  </thead>\n",
       "  <tbody>\n",
       "    <tr>\n",
       "      <th>0</th>\n",
       "      <td>380</td>\n",
       "      <td>2085</td>\n",
       "      <td>3.0</td>\n",
       "      <td>3.519106</td>\n",
       "      <td>{'actual_k': 30, 'was_impossible': False}</td>\n",
       "    </tr>\n",
       "    <tr>\n",
       "      <th>1</th>\n",
       "      <td>367</td>\n",
       "      <td>513</td>\n",
       "      <td>4.0</td>\n",
       "      <td>3.000000</td>\n",
       "      <td>{'actual_k': 2, 'was_impossible': False}</td>\n",
       "    </tr>\n",
       "    <tr>\n",
       "      <th>2</th>\n",
       "      <td>570</td>\n",
       "      <td>349</td>\n",
       "      <td>4.0</td>\n",
       "      <td>3.712390</td>\n",
       "      <td>{'actual_k': 40, 'was_impossible': False}</td>\n",
       "    </tr>\n",
       "    <tr>\n",
       "      <th>3</th>\n",
       "      <td>288</td>\n",
       "      <td>2018</td>\n",
       "      <td>3.0</td>\n",
       "      <td>3.391372</td>\n",
       "      <td>{'actual_k': 29, 'was_impossible': False}</td>\n",
       "    </tr>\n",
       "    <tr>\n",
       "      <th>4</th>\n",
       "      <td>446</td>\n",
       "      <td>266</td>\n",
       "      <td>2.0</td>\n",
       "      <td>3.401412</td>\n",
       "      <td>{'actual_k': 40, 'was_impossible': False}</td>\n",
       "    </tr>\n",
       "  </tbody>\n",
       "</table>\n",
       "</div>"
      ],
      "text/plain": [
       "   raw_user_id  raw_item_id  actual_user_rating  estimated_user_rating  \\\n",
       "0          380         2085                 3.0               3.519106   \n",
       "1          367          513                 4.0               3.000000   \n",
       "2          570          349                 4.0               3.712390   \n",
       "3          288         2018                 3.0               3.391372   \n",
       "4          446          266                 2.0               3.401412   \n",
       "\n",
       "                                     details  \n",
       "0  {'actual_k': 30, 'was_impossible': False}  \n",
       "1   {'actual_k': 2, 'was_impossible': False}  \n",
       "2  {'actual_k': 40, 'was_impossible': False}  \n",
       "3  {'actual_k': 29, 'was_impossible': False}  \n",
       "4  {'actual_k': 40, 'was_impossible': False}  "
      ]
     },
     "execution_count": 22,
     "metadata": {},
     "output_type": "execute_result"
    }
   ],
   "source": [
    "predictions_df.head()"
   ]
  },
  {
   "cell_type": "markdown",
   "id": "7ec2d5c1-1e71-48e0-8a02-e87304902529",
   "metadata": {},
   "source": [
    "### Evaluating the model"
   ]
  },
  {
   "cell_type": "markdown",
   "id": "16bc7cc3-7aa4-4ab4-8771-4e22eca5e5a1",
   "metadata": {},
   "source": [
    "#### Metrics"
   ]
  },
  {
   "cell_type": "code",
   "execution_count": 31,
   "id": "ed8bb10a-0276-44fa-8205-93e6a16b6008",
   "metadata": {
    "tags": []
   },
   "outputs": [
    {
     "name": "stdout",
     "output_type": "stream",
     "text": [
      "MAE:  0.7462\n",
      "RMSE: 0.9698\n",
      "FCP:  0.6685\n"
     ]
    },
    {
     "data": {
      "text/html": [
       "<div>\n",
       "<style scoped>\n",
       "    .dataframe tbody tr th:only-of-type {\n",
       "        vertical-align: middle;\n",
       "    }\n",
       "\n",
       "    .dataframe tbody tr th {\n",
       "        vertical-align: top;\n",
       "    }\n",
       "\n",
       "    .dataframe thead th {\n",
       "        text-align: right;\n",
       "    }\n",
       "</style>\n",
       "<table border=\"1\" class=\"dataframe\">\n",
       "  <thead>\n",
       "    <tr style=\"text-align: right;\">\n",
       "      <th></th>\n",
       "      <th>MAE</th>\n",
       "      <th>RMSE</th>\n",
       "      <th>fcp</th>\n",
       "    </tr>\n",
       "  </thead>\n",
       "  <tbody>\n",
       "    <tr>\n",
       "      <th>0</th>\n",
       "      <td>0.746228</td>\n",
       "      <td>0.969775</td>\n",
       "      <td>0.668496</td>\n",
       "    </tr>\n",
       "  </tbody>\n",
       "</table>\n",
       "</div>"
      ],
      "text/plain": [
       "        MAE      RMSE       fcp\n",
       "0  0.746228  0.969775  0.668496"
      ]
     },
     "execution_count": 31,
     "metadata": {},
     "output_type": "execute_result"
    }
   ],
   "source": [
    "import pandas as pd\n",
    "\n",
    "# Calculate the metrics\n",
    "mae_value = accuracy.mae(predictions)\n",
    "rmse_value = accuracy.rmse(predictions)\n",
    "fcp_value = accuracy.fcp(predictions)\n",
    "\n",
    "# Create the DataFrame without specifying the index\n",
    "ratings_df = pd.DataFrame({\n",
    "    'MAE': [mae_value],\n",
    "    'RMSE': [rmse_value],\n",
    "    'fcp': [fcp_value]\n",
    "})\n",
    "\n",
    "# Display the DataFrame\n",
    "ratings_df\n"
   ]
  },
  {
   "cell_type": "markdown",
   "id": "1be8345c-e5b7-424a-9238-760a5ea41a1d",
   "metadata": {},
   "source": [
    "#### Plots of the errors"
   ]
  },
  {
   "cell_type": "code",
   "execution_count": 43,
   "id": "e2776cc8-4e2b-455f-a6ca-bb9e29e02ee7",
   "metadata": {
    "tags": []
   },
   "outputs": [],
   "source": [
    "predictions_df[\"difference\"] = predictions_df[\"actual_user_rating\"] - predictions_df[\"estimated_user_rating\"]"
   ]
  },
  {
   "cell_type": "code",
   "execution_count": 44,
   "id": "a744d7ff-60f3-4b15-adf9-10c60596b14d",
   "metadata": {
    "tags": []
   },
   "outputs": [
    {
     "data": {
      "image/png": "[encoded data removed]",
      "text/plain": [
       "<Figure size 1000x800 with 1 Axes>"
      ]
     },
     "metadata": {},
     "output_type": "display_data"
    }
   ],
   "source": [
    "predictions_df[\"difference\"].hist(bins=30,\n",
    "                                  figsize=(10, 8));"
   ]
  },
  {
   "cell_type": "code",
   "execution_count": 45,
   "id": "5e5c2740-ff74-4632-b793-4a4eefbd8db1",
   "metadata": {
    "tags": []
   },
   "outputs": [
    {
     "data": {
      "image/png": "[encoded data removed]",
      "text/plain": [
       "<Figure size 1000x800 with 1 Axes>"
      ]
     },
     "metadata": {},
     "output_type": "display_data"
    }
   ],
   "source": [
    "predictions_df.plot(kind='box',\n",
    "                    column='estimated_user_rating',\n",
    "                    by='actual_user_rating',\n",
    "                    figsize=(10, 8));"
   ]
  },
  {
   "cell_type": "markdown",
   "id": "0d7179ba-f85f-41ed-9d83-4bb5b35fdc4b",
   "metadata": {},
   "source": [
    "# Applying the recommender-model"
   ]
  },
  {
   "cell_type": "code",
   "execution_count": 32,
   "id": "36d603c1-fb44-42ef-b0ec-5d1b64dc6969",
   "metadata": {
    "tags": []
   },
   "outputs": [],
   "source": [
    "sim_options = {\n",
    "    'name': 'cosine',\n",
    "    'user_based': True\n",
    "}\n",
    "\n",
    "full_train = data.build_full_trainset()\n"
   ]
  },
  {
   "cell_type": "code",
   "execution_count": 34,
   "id": "87beca8d-5eb9-4b52-9b65-5a7ae58be14d",
   "metadata": {
    "tags": []
   },
   "outputs": [
    {
     "name": "stdout",
     "output_type": "stream",
     "text": [
      "Computing the cosine similarity matrix...\n",
      "Done computing similarity matrix.\n"
     ]
    },
    {
     "data": {
      "text/plain": [
       "<surprise.prediction_algorithms.knns.KNNBasic at 0x1b701d0c3d0>"
      ]
     },
     "execution_count": 34,
     "metadata": {},
     "output_type": "execute_result"
    }
   ],
   "source": [
    "algo = KNNBasic(sim_options=sim_options)\n",
    "algo.fit(full_train)"
   ]
  },
  {
   "cell_type": "code",
   "execution_count": 35,
   "id": "747c23e7-4494-4c49-a639-55987332eca2",
   "metadata": {
    "tags": []
   },
   "outputs": [],
   "source": [
    "testset = full_train.build_anti_testset()"
   ]
  },
  {
   "cell_type": "code",
   "execution_count": 36,
   "id": "a99d5b36-f1cc-4be4-9e44-9bd992e0e100",
   "metadata": {
    "tags": []
   },
   "outputs": [],
   "source": [
    "def n_predictions_for_user_2(testset, userId, n):\n",
    "    filtered_testset = []\n",
    "\n",
    "    #loop through a big testset\n",
    "    for row in testset:\n",
    "        #filter the ones with our user_id\n",
    "        if row[0] == userId:\n",
    "            # add the filtered ones to empty list\n",
    "            filtered_testset.append(row)\n",
    "    #do predictions on filtered testset\n",
    "    predictions = algo.test(filtered_testset)\n",
    "    # turn predictions into a dataframe and return a top 10 predictions based on the predicted ratings - 'est'\n",
    "    return pd.DataFrame(predictions).nlargest(n,'est')"
   ]
  },
  {
   "cell_type": "code",
   "execution_count": 38,
   "id": "d1a02e9a-e0b1-4bd9-8b7f-c46f77abc4fd",
   "metadata": {
    "tags": []
   },
   "outputs": [
    {
     "data": {
      "text/html": [
       "<div>\n",
       "<style scoped>\n",
       "    .dataframe tbody tr th:only-of-type {\n",
       "        vertical-align: middle;\n",
       "    }\n",
       "\n",
       "    .dataframe tbody tr th {\n",
       "        vertical-align: top;\n",
       "    }\n",
       "\n",
       "    .dataframe thead th {\n",
       "        text-align: right;\n",
       "    }\n",
       "</style>\n",
       "<table border=\"1\" class=\"dataframe\">\n",
       "  <thead>\n",
       "    <tr style=\"text-align: right;\">\n",
       "      <th></th>\n",
       "      <th>uid</th>\n",
       "      <th>iid</th>\n",
       "      <th>r_ui</th>\n",
       "      <th>est</th>\n",
       "      <th>details</th>\n",
       "    </tr>\n",
       "  </thead>\n",
       "  <tbody>\n",
       "    <tr>\n",
       "      <th>2287</th>\n",
       "      <td>380</td>\n",
       "      <td>176601</td>\n",
       "      <td>3.501557</td>\n",
       "      <td>5.0</td>\n",
       "      <td>{'actual_k': 1, 'was_impossible': False}</td>\n",
       "    </tr>\n",
       "    <tr>\n",
       "      <th>3721</th>\n",
       "      <td>380</td>\n",
       "      <td>2969</td>\n",
       "      <td>3.501557</td>\n",
       "      <td>5.0</td>\n",
       "      <td>{'actual_k': 1, 'was_impossible': False}</td>\n",
       "    </tr>\n",
       "    <tr>\n",
       "      <th>4076</th>\n",
       "      <td>380</td>\n",
       "      <td>3096</td>\n",
       "      <td>3.501557</td>\n",
       "      <td>5.0</td>\n",
       "      <td>{'actual_k': 1, 'was_impossible': False}</td>\n",
       "    </tr>\n",
       "    <tr>\n",
       "      <th>4530</th>\n",
       "      <td>380</td>\n",
       "      <td>99</td>\n",
       "      <td>3.501557</td>\n",
       "      <td>5.0</td>\n",
       "      <td>{'actual_k': 2, 'was_impossible': False}</td>\n",
       "    </tr>\n",
       "    <tr>\n",
       "      <th>6510</th>\n",
       "      <td>380</td>\n",
       "      <td>96430</td>\n",
       "      <td>3.501557</td>\n",
       "      <td>5.0</td>\n",
       "      <td>{'actual_k': 1, 'was_impossible': False}</td>\n",
       "    </tr>\n",
       "    <tr>\n",
       "      <th>7515</th>\n",
       "      <td>380</td>\n",
       "      <td>164367</td>\n",
       "      <td>3.501557</td>\n",
       "      <td>5.0</td>\n",
       "      <td>{'actual_k': 1, 'was_impossible': False}</td>\n",
       "    </tr>\n",
       "    <tr>\n",
       "      <th>122</th>\n",
       "      <td>380</td>\n",
       "      <td>131724</td>\n",
       "      <td>3.501557</td>\n",
       "      <td>5.0</td>\n",
       "      <td>{'actual_k': 1, 'was_impossible': False}</td>\n",
       "    </tr>\n",
       "    <tr>\n",
       "      <th>140</th>\n",
       "      <td>380</td>\n",
       "      <td>5746</td>\n",
       "      <td>3.501557</td>\n",
       "      <td>5.0</td>\n",
       "      <td>{'actual_k': 1, 'was_impossible': False}</td>\n",
       "    </tr>\n",
       "    <tr>\n",
       "      <th>144</th>\n",
       "      <td>380</td>\n",
       "      <td>6835</td>\n",
       "      <td>3.501557</td>\n",
       "      <td>5.0</td>\n",
       "      <td>{'actual_k': 1, 'was_impossible': False}</td>\n",
       "    </tr>\n",
       "    <tr>\n",
       "      <th>268</th>\n",
       "      <td>380</td>\n",
       "      <td>3851</td>\n",
       "      <td>3.501557</td>\n",
       "      <td>5.0</td>\n",
       "      <td>{'actual_k': 1, 'was_impossible': False}</td>\n",
       "    </tr>\n",
       "  </tbody>\n",
       "</table>\n",
       "</div>"
      ],
      "text/plain": [
       "      uid     iid      r_ui  est                                   details\n",
       "2287  380  176601  3.501557  5.0  {'actual_k': 1, 'was_impossible': False}\n",
       "3721  380    2969  3.501557  5.0  {'actual_k': 1, 'was_impossible': False}\n",
       "4076  380    3096  3.501557  5.0  {'actual_k': 1, 'was_impossible': False}\n",
       "4530  380      99  3.501557  5.0  {'actual_k': 2, 'was_impossible': False}\n",
       "6510  380   96430  3.501557  5.0  {'actual_k': 1, 'was_impossible': False}\n",
       "7515  380  164367  3.501557  5.0  {'actual_k': 1, 'was_impossible': False}\n",
       "122   380  131724  3.501557  5.0  {'actual_k': 1, 'was_impossible': False}\n",
       "140   380    5746  3.501557  5.0  {'actual_k': 1, 'was_impossible': False}\n",
       "144   380    6835  3.501557  5.0  {'actual_k': 1, 'was_impossible': False}\n",
       "268   380    3851  3.501557  5.0  {'actual_k': 1, 'was_impossible': False}"
      ]
     },
     "execution_count": 38,
     "metadata": {},
     "output_type": "execute_result"
    }
   ],
   "source": [
    "userId = 380\n",
    "n=10\n",
    "\n",
    "top_n_df = n_predictions_for_user_2(testset,userId,n)\n",
    "top_n_df"
   ]
  },
  {
   "cell_type": "code",
   "execution_count": 40,
   "id": "af6b4e83-c078-44f8-862a-539ee36214da",
   "metadata": {
    "tags": []
   },
   "outputs": [],
   "source": [
    "filter_df = movies_df[['movieId','title','genres']]"
   ]
  },
  {
   "cell_type": "code",
   "execution_count": 42,
   "id": "16b24d6a-b209-484b-8adf-dcc9699ce461",
   "metadata": {
    "tags": []
   },
   "outputs": [
    {
     "data": {
      "text/html": [
       "<div>\n",
       "<style scoped>\n",
       "    .dataframe tbody tr th:only-of-type {\n",
       "        vertical-align: middle;\n",
       "    }\n",
       "\n",
       "    .dataframe tbody tr th {\n",
       "        vertical-align: top;\n",
       "    }\n",
       "\n",
       "    .dataframe thead th {\n",
       "        text-align: right;\n",
       "    }\n",
       "</style>\n",
       "<table border=\"1\" class=\"dataframe\">\n",
       "  <thead>\n",
       "    <tr style=\"text-align: right;\">\n",
       "      <th></th>\n",
       "      <th>iid</th>\n",
       "      <th>est</th>\n",
       "      <th>movieId</th>\n",
       "      <th>title</th>\n",
       "      <th>genres</th>\n",
       "    </tr>\n",
       "  </thead>\n",
       "  <tbody>\n",
       "    <tr>\n",
       "      <th>0</th>\n",
       "      <td>176601</td>\n",
       "      <td>5.0</td>\n",
       "      <td>176601</td>\n",
       "      <td>Black Mirror</td>\n",
       "      <td>(no genres listed)</td>\n",
       "    </tr>\n",
       "    <tr>\n",
       "      <th>1</th>\n",
       "      <td>2969</td>\n",
       "      <td>5.0</td>\n",
       "      <td>2969</td>\n",
       "      <td>Man and a Woman, A (Un homme et une femme) (1966)</td>\n",
       "      <td>Drama|Romance</td>\n",
       "    </tr>\n",
       "    <tr>\n",
       "      <th>2</th>\n",
       "      <td>3096</td>\n",
       "      <td>5.0</td>\n",
       "      <td>3096</td>\n",
       "      <td>My Man Godfrey (1957)</td>\n",
       "      <td>Comedy</td>\n",
       "    </tr>\n",
       "    <tr>\n",
       "      <th>3</th>\n",
       "      <td>99</td>\n",
       "      <td>5.0</td>\n",
       "      <td>99</td>\n",
       "      <td>Heidi Fleiss: Hollywood Madam (1995)</td>\n",
       "      <td>Documentary</td>\n",
       "    </tr>\n",
       "    <tr>\n",
       "      <th>4</th>\n",
       "      <td>96430</td>\n",
       "      <td>5.0</td>\n",
       "      <td>96430</td>\n",
       "      <td>Odd Life of Timothy Green, The (2012)</td>\n",
       "      <td>Comedy|Drama|Fantasy</td>\n",
       "    </tr>\n",
       "    <tr>\n",
       "      <th>5</th>\n",
       "      <td>164367</td>\n",
       "      <td>5.0</td>\n",
       "      <td>164367</td>\n",
       "      <td>The Girl with All the Gifts (2016)</td>\n",
       "      <td>Drama|Horror|Sci-Fi|Thriller</td>\n",
       "    </tr>\n",
       "    <tr>\n",
       "      <th>6</th>\n",
       "      <td>131724</td>\n",
       "      <td>5.0</td>\n",
       "      <td>131724</td>\n",
       "      <td>The Jinx: The Life and Deaths of Robert Durst ...</td>\n",
       "      <td>Documentary</td>\n",
       "    </tr>\n",
       "    <tr>\n",
       "      <th>7</th>\n",
       "      <td>5746</td>\n",
       "      <td>5.0</td>\n",
       "      <td>5746</td>\n",
       "      <td>Galaxy of Terror (Quest) (1981)</td>\n",
       "      <td>Action|Horror|Mystery|Sci-Fi</td>\n",
       "    </tr>\n",
       "    <tr>\n",
       "      <th>8</th>\n",
       "      <td>6835</td>\n",
       "      <td>5.0</td>\n",
       "      <td>6835</td>\n",
       "      <td>Alien Contamination (1980)</td>\n",
       "      <td>Action|Horror|Sci-Fi</td>\n",
       "    </tr>\n",
       "    <tr>\n",
       "      <th>9</th>\n",
       "      <td>3851</td>\n",
       "      <td>5.0</td>\n",
       "      <td>3851</td>\n",
       "      <td>I'm the One That I Want (2000)</td>\n",
       "      <td>Comedy</td>\n",
       "    </tr>\n",
       "  </tbody>\n",
       "</table>\n",
       "</div>"
      ],
      "text/plain": [
       "      iid  est  movieId                                              title  \\\n",
       "0  176601  5.0   176601                                       Black Mirror   \n",
       "1    2969  5.0     2969  Man and a Woman, A (Un homme et une femme) (1966)   \n",
       "2    3096  5.0     3096                              My Man Godfrey (1957)   \n",
       "3      99  5.0       99               Heidi Fleiss: Hollywood Madam (1995)   \n",
       "4   96430  5.0    96430              Odd Life of Timothy Green, The (2012)   \n",
       "5  164367  5.0   164367                 The Girl with All the Gifts (2016)   \n",
       "6  131724  5.0   131724  The Jinx: The Life and Deaths of Robert Durst ...   \n",
       "7    5746  5.0     5746                    Galaxy of Terror (Quest) (1981)   \n",
       "8    6835  5.0     6835                         Alien Contamination (1980)   \n",
       "9    3851  5.0     3851                     I'm the One That I Want (2000)   \n",
       "\n",
       "                         genres  \n",
       "0            (no genres listed)  \n",
       "1                 Drama|Romance  \n",
       "2                        Comedy  \n",
       "3                   Documentary  \n",
       "4          Comedy|Drama|Fantasy  \n",
       "5  Drama|Horror|Sci-Fi|Thriller  \n",
       "6                   Documentary  \n",
       "7  Action|Horror|Mystery|Sci-Fi  \n",
       "8          Action|Horror|Sci-Fi  \n",
       "9                        Comedy  "
      ]
     },
     "execution_count": 42,
     "metadata": {},
     "output_type": "execute_result"
    }
   ],
   "source": [
    "top_n_df[['iid','est']].merge(filter_df,how='left',left_on='iid',right_on='movieId').drop_duplicates()"
   ]
  },
  {
   "cell_type": "code",
   "execution_count": null,
   "id": "ccbed8bd-00af-4a3b-92a5-3d62cd5a5e90",
   "metadata": {},
   "outputs": [],
   "source": []
  }
 ],
 "metadata": {
  "kernelspec": {
   "display_name": "Python 3 (ipykernel)",
   "language": "python",
   "name": "python3"
  },
  "language_info": {
   "codemirror_mode": {
    "name": "ipython",
    "version": 3
   },
   "file_extension": ".py",
   "mimetype": "text/x-python",
   "name": "python",
   "nbconvert_exporter": "python",
   "pygments_lexer": "ipython3",
   "version": "3.11.3"
  }
 },
 "nbformat": 4,
 "nbformat_minor": 5
}
